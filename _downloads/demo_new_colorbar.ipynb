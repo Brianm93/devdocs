{
  "metadata": {
    "language_info": {
      "codemirror_mode": {
        "version": 3,
        "name": "ipython"
      },
      "name": "python",
      "pygments_lexer": "ipython3",
      "file_extension": ".py",
      "mimetype": "text/x-python",
      "nbconvert_exporter": "python",
      "version": "3.5.2"
    },
    "kernelspec": {
      "display_name": "Python 3",
      "name": "python3",
      "language": "python"
    }
  },
  "cells": [
    {
      "source": [
        "%matplotlib inline"
      ],
      "metadata": {
        "collapsed": false
      },
      "outputs": [],
      "cell_type": "code",
      "execution_count": null
    },
    {
      "source": [
        "\n# Demo New Colorbar\n\n\n\n"
      ],
      "metadata": {},
      "cell_type": "markdown"
    },
    {
      "source": [
        "import matplotlib.pyplot as plt\nfrom mpl_toolkits.axes_grid1.colorbar import colorbar\n\n\nplt.rcParams[\"text.usetex\"] = False\n\nfig, (ax1, ax2) = plt.subplots(1, 2, figsize=(6, 3))\n\nim1 = ax1.imshow([[1, 2], [3, 4]])\ncb1 = fig.colorbar(im1, ax=ax1)\ncb1.ax.set_yticks([1, 3])\nax1.set_title(\"Original MPL's colorbar w/\\nset_yticks([1,3])\", size=10)\n\nim2 = ax2.imshow([[1, 2], [3, 4]])\ncb2 = colorbar(im2, ax=ax2)\ncb2.ax.set_yticks([1, 3])\nax2.set_title(\"AxesGrid's colorbar w/\\nset_yticks([1,3])\", size=10)\n\nplt.show()"
      ],
      "metadata": {
        "collapsed": false
      },
      "outputs": [],
      "cell_type": "code",
      "execution_count": null
    }
  ],
  "nbformat": 4,
  "nbformat_minor": 0
}