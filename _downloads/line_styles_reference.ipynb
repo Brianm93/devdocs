{
  "metadata": {
    "language_info": {
      "codemirror_mode": {
        "version": 3,
        "name": "ipython"
      },
      "name": "python",
      "pygments_lexer": "ipython3",
      "file_extension": ".py",
      "mimetype": "text/x-python",
      "nbconvert_exporter": "python",
      "version": "3.5.2"
    },
    "kernelspec": {
      "display_name": "Python 3",
      "name": "python3",
      "language": "python"
    }
  },
  "cells": [
    {
      "source": [
        "%matplotlib inline"
      ],
      "metadata": {
        "collapsed": false
      },
      "outputs": [],
      "cell_type": "code",
      "execution_count": null
    },
    {
      "source": [
        "\n# Line-style reference\n\n\nReference for line-styles included with Matplotlib.\n\n"
      ],
      "metadata": {},
      "cell_type": "markdown"
    },
    {
      "source": [
        "import numpy as np\nimport matplotlib.pyplot as plt\n\n\ncolor = 'cornflowerblue'\npoints = np.ones(5)  # Draw 5 points for each line\ntext_style = dict(horizontalalignment='right', verticalalignment='center',\n                  fontsize=12, fontdict={'family': 'monospace'})\n\n\ndef format_axes(ax):\n    ax.margins(0.2)\n    ax.set_axis_off()\n\n\ndef nice_repr(text):\n    return repr(text).lstrip('u')\n\n\n# Plot all line styles.\nfig, ax = plt.subplots()\n\nlinestyles = ['-', '--', '-.', ':']\nfor y, linestyle in enumerate(linestyles):\n    ax.text(-0.1, y, nice_repr(linestyle), **text_style)\n    ax.plot(y * points, linestyle=linestyle, color=color, linewidth=3)\n    format_axes(ax)\n    ax.set_title('line styles')\n\nplt.show()"
      ],
      "metadata": {
        "collapsed": false
      },
      "outputs": [],
      "cell_type": "code",
      "execution_count": null
    }
  ],
  "nbformat": 4,
  "nbformat_minor": 0
}