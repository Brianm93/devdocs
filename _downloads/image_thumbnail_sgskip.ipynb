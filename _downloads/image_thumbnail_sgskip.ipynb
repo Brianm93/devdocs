{
  "nbformat_minor": 0,
  "cells": [
    {
      "cell_type": "code",
      "execution_count": null,
      "outputs": [],
      "metadata": {
        "collapsed": false
      },
      "source": [
        "%matplotlib inline"
      ]
    },
    {
      "cell_type": "markdown",
      "metadata": {},
      "source": [
        "\n# Image Thumbnail\n\n\nYou can use matplotlib to generate thumbnails from existing images.\nmatplotlib natively supports PNG files on the input side, and other\nimage types transparently if your have PIL installed\n\n\n\n"
      ]
    },
    {
      "cell_type": "code",
      "execution_count": null,
      "outputs": [],
      "metadata": {
        "collapsed": false
      },
      "source": [
        "from __future__ import print_function\n# build thumbnails of all images in a directory\nimport sys\nimport os\nimport glob\nimport matplotlib.image as image\n\n\nif len(sys.argv) != 2:\n    print('Usage: python %s IMAGEDIR' % __file__)\n    raise SystemExit\nindir = sys.argv[1]\nif not os.path.isdir(indir):\n    print('Could not find input directory \"%s\"' % indir)\n    raise SystemExit\n\noutdir = 'thumbs'\nif not os.path.exists(outdir):\n    os.makedirs(outdir)\n\nfor fname in glob.glob(os.path.join(indir, '*.png')):\n    basedir, basename = os.path.split(fname)\n    outfile = os.path.join(outdir, basename)\n    fig = image.thumbnail(fname, outfile, scale=0.15)\n    print('saved thumbnail of %s to %s' % (fname, outfile))"
      ]
    }
  ],
  "metadata": {
    "language_info": {
      "version": "3.5.2",
      "pygments_lexer": "ipython3",
      "nbconvert_exporter": "python",
      "name": "python",
      "file_extension": ".py",
      "mimetype": "text/x-python",
      "codemirror_mode": {
        "name": "ipython",
        "version": 3
      }
    },
    "kernelspec": {
      "name": "python3",
      "display_name": "Python 3",
      "language": "python"
    }
  },
  "nbformat": 4
}