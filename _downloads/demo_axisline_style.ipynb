{
  "metadata": {
    "language_info": {
      "codemirror_mode": {
        "version": 3,
        "name": "ipython"
      },
      "name": "python",
      "pygments_lexer": "ipython3",
      "file_extension": ".py",
      "mimetype": "text/x-python",
      "nbconvert_exporter": "python",
      "version": "3.5.2"
    },
    "kernelspec": {
      "display_name": "Python 3",
      "name": "python3",
      "language": "python"
    }
  },
  "cells": [
    {
      "source": [
        "%matplotlib inline"
      ],
      "metadata": {
        "collapsed": false
      },
      "outputs": [],
      "cell_type": "code",
      "execution_count": null
    },
    {
      "source": [
        "\n# Axis line styles\n\n\nThis example shows some configurations for axis style.\n\n"
      ],
      "metadata": {},
      "cell_type": "markdown"
    },
    {
      "source": [
        "from mpl_toolkits.axisartist.axislines import SubplotZero\nimport matplotlib.pyplot as plt\nimport numpy as np\n\nif 1:\n    fig = plt.figure(1)\n    ax = SubplotZero(fig, 111)\n    fig.add_subplot(ax)\n\n    for direction in [\"xzero\", \"yzero\"]:\n        # adds arrows at the ends of each axis\n        ax.axis[direction].set_axisline_style(\"-|>\")\n\n        # adds X and Y-axis from the origin\n        ax.axis[direction].set_visible(True)\n\n    for direction in [\"left\", \"right\", \"bottom\", \"top\"]:\n        # hides borders\n        ax.axis[direction].set_visible(False)\n\n    x = np.linspace(-0.5, 1., 100)\n    ax.plot(x, np.sin(x*np.pi))\n\n    plt.show()"
      ],
      "metadata": {
        "collapsed": false
      },
      "outputs": [],
      "cell_type": "code",
      "execution_count": null
    }
  ],
  "nbformat": 4,
  "nbformat_minor": 0
}