{
  "cells": [
    {
      "cell_type": "code",
      "execution_count": null,
      "metadata": {
        "collapsed": false
      },
      "source": [
        "%matplotlib inline"
      ],
      "outputs": []
    },
    {
      "cell_type": "markdown",
      "metadata": {},
      "source": [
        "\n# Load Converter\n\n\n\n"
      ]
    },
    {
      "cell_type": "code",
      "execution_count": null,
      "metadata": {
        "collapsed": false
      },
      "source": [
        "from __future__ import print_function\nimport numpy as np\nimport matplotlib.pyplot as plt\nimport matplotlib.cbook as cbook\nimport matplotlib.dates as mdates\nfrom matplotlib.dates import bytespdate2num\n\ndatafile = cbook.get_sample_data('msft.csv', asfileobj=False)\nprint('loading', datafile)\n\ndates, closes = np.loadtxt(datafile, delimiter=',',\n                           converters={0: bytespdate2num('%d-%b-%y')},\n                           skiprows=1, usecols=(0, 2), unpack=True)\n\nfig = plt.figure()\nax = fig.add_subplot(111)\nax.plot_date(dates, closes, '-')\nfig.autofmt_xdate()\nplt.show()"
      ],
      "outputs": []
    }
  ],
  "nbformat_minor": 0,
  "metadata": {
    "kernelspec": {
      "display_name": "Python 3",
      "language": "python",
      "name": "python3"
    },
    "language_info": {
      "version": "3.5.2",
      "nbconvert_exporter": "python",
      "mimetype": "text/x-python",
      "codemirror_mode": {
        "version": 3,
        "name": "ipython"
      },
      "file_extension": ".py",
      "pygments_lexer": "ipython3",
      "name": "python"
    }
  },
  "nbformat": 4
}