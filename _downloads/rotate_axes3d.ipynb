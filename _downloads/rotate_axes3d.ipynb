{
  "cells": [
    {
      "cell_type": "code",
      "execution_count": null,
      "metadata": {
        "collapsed": false
      },
      "source": [
        "%matplotlib inline"
      ],
      "outputs": []
    },
    {
      "cell_type": "markdown",
      "metadata": {},
      "source": [
        "\n# Rotating a 3D plot\n\n\nA very simple animation of a rotating 3D plot.\n\nSee wire3d_animation_demo for another simple example of animating a 3D plot.\n\n"
      ]
    },
    {
      "cell_type": "code",
      "execution_count": null,
      "metadata": {
        "collapsed": false
      },
      "source": [
        "from mpl_toolkits.mplot3d import axes3d\nimport matplotlib.pyplot as plt\n\nfig = plt.figure()\nax = fig.add_subplot(111, projection='3d')\n\n# load some test data for demonstration and plot a wireframe\nX, Y, Z = axes3d.get_test_data(0.1)\nax.plot_wireframe(X, Y, Z, rstride=5, cstride=5)\n\n# rotate the axes and update\nfor angle in range(0, 360):\n    ax.view_init(30, angle)\n    plt.draw()\n    plt.pause(.001)"
      ],
      "outputs": []
    }
  ],
  "nbformat_minor": 0,
  "metadata": {
    "kernelspec": {
      "display_name": "Python 3",
      "language": "python",
      "name": "python3"
    },
    "language_info": {
      "version": "3.5.2",
      "nbconvert_exporter": "python",
      "mimetype": "text/x-python",
      "codemirror_mode": {
        "version": 3,
        "name": "ipython"
      },
      "file_extension": ".py",
      "pygments_lexer": "ipython3",
      "name": "python"
    }
  },
  "nbformat": 4
}