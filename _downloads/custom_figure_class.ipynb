{
  "cells": [
    {
      "cell_type": "code",
      "execution_count": null,
      "metadata": {
        "collapsed": false
      },
      "source": [
        "%matplotlib inline"
      ],
      "outputs": []
    },
    {
      "cell_type": "markdown",
      "metadata": {},
      "source": [
        "\n# Custom Figure Class\n\n\nYou can pass a custom Figure constructor to figure if you want to derive from the default Figure.  This simple example creates a figure with a figure title\n\n"
      ]
    },
    {
      "cell_type": "code",
      "execution_count": null,
      "metadata": {
        "collapsed": false
      },
      "source": [
        "from matplotlib.pyplot import figure, show\nfrom matplotlib.figure import Figure\n\n\nclass MyFigure(Figure):\n    def __init__(self, *args, **kwargs):\n        \"\"\"\n        custom kwarg figtitle is a figure title\n        \"\"\"\n        figtitle = kwargs.pop('figtitle', 'hi mom')\n        Figure.__init__(self, *args, **kwargs)\n        self.text(0.5, 0.95, figtitle, ha='center')\n\nfig = figure(FigureClass=MyFigure, figtitle='my title')\nax = fig.add_subplot(111)\nax.plot([1, 2, 3])\n\nshow()"
      ],
      "outputs": []
    }
  ],
  "nbformat_minor": 0,
  "metadata": {
    "kernelspec": {
      "display_name": "Python 3",
      "language": "python",
      "name": "python3"
    },
    "language_info": {
      "version": "3.5.2",
      "nbconvert_exporter": "python",
      "mimetype": "text/x-python",
      "codemirror_mode": {
        "version": 3,
        "name": "ipython"
      },
      "file_extension": ".py",
      "pygments_lexer": "ipython3",
      "name": "python"
    }
  },
  "nbformat": 4
}