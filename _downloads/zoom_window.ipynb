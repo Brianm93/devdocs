{
  "metadata": {
    "language_info": {
      "codemirror_mode": {
        "version": 3,
        "name": "ipython"
      },
      "name": "python",
      "pygments_lexer": "ipython3",
      "file_extension": ".py",
      "mimetype": "text/x-python",
      "nbconvert_exporter": "python",
      "version": "3.5.2"
    },
    "kernelspec": {
      "display_name": "Python 3",
      "name": "python3",
      "language": "python"
    }
  },
  "cells": [
    {
      "source": [
        "%matplotlib inline"
      ],
      "metadata": {
        "collapsed": false
      },
      "outputs": [],
      "cell_type": "code",
      "execution_count": null
    },
    {
      "source": [
        "\n# Zoom Window\n\n\nThis example shows how to connect events in one window, for example, a mouse\npress, to another figure window.\n\nIf you click on a point in the first window, the z and y limits of the\nsecond will be adjusted so that the center of the zoom in the second\nwindow will be the x,y coordinates of the clicked point.\n\nNote the diameter of the circles in the scatter are defined in\npoints**2, so their size is independent of the zoom\n\n"
      ],
      "metadata": {},
      "cell_type": "markdown"
    },
    {
      "source": [
        "from matplotlib.pyplot import figure, show\nimport numpy as np\nfigsrc = figure()\nfigzoom = figure()\n\naxsrc = figsrc.add_subplot(111, xlim=(0, 1), ylim=(0, 1), autoscale_on=False)\naxzoom = figzoom.add_subplot(111, xlim=(0.45, 0.55), ylim=(0.4, .6),\n                             autoscale_on=False)\naxsrc.set_title('Click to zoom')\naxzoom.set_title('zoom window')\nx, y, s, c = np.random.rand(4, 200)\ns *= 200\n\n\naxsrc.scatter(x, y, s, c)\naxzoom.scatter(x, y, s, c)\n\n\ndef onpress(event):\n    if event.button != 1:\n        return\n    x, y = event.xdata, event.ydata\n    axzoom.set_xlim(x - 0.1, x + 0.1)\n    axzoom.set_ylim(y - 0.1, y + 0.1)\n    figzoom.canvas.draw()\n\nfigsrc.canvas.mpl_connect('button_press_event', onpress)\nshow()"
      ],
      "metadata": {
        "collapsed": false
      },
      "outputs": [],
      "cell_type": "code",
      "execution_count": null
    }
  ],
  "nbformat": 4,
  "nbformat_minor": 0
}