{
  "nbformat_minor": 0,
  "cells": [
    {
      "cell_type": "code",
      "execution_count": null,
      "outputs": [],
      "metadata": {
        "collapsed": false
      },
      "source": [
        "%matplotlib inline"
      ]
    },
    {
      "cell_type": "markdown",
      "metadata": {},
      "source": [
        "\n# Ginput Demo\n\n\nThis provides examples of uses of interactive functions, such as ginput,\n\n\n"
      ]
    },
    {
      "cell_type": "code",
      "execution_count": null,
      "outputs": [],
      "metadata": {
        "collapsed": false
      },
      "source": [
        "from __future__ import print_function\n\nimport matplotlib.pyplot as plt\nimport numpy as np\nt = np.arange(10)\nplt.plot(t, np.sin(t))\nprint(\"Please click\")\nx = plt.ginput(3)\nprint(\"clicked\", x)\nplt.show()"
      ]
    }
  ],
  "metadata": {
    "language_info": {
      "version": "3.5.2",
      "pygments_lexer": "ipython3",
      "nbconvert_exporter": "python",
      "name": "python",
      "file_extension": ".py",
      "mimetype": "text/x-python",
      "codemirror_mode": {
        "name": "ipython",
        "version": 3
      }
    },
    "kernelspec": {
      "name": "python3",
      "display_name": "Python 3",
      "language": "python"
    }
  },
  "nbformat": 4
}