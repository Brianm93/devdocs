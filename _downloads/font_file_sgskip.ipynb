{
  "nbformat_minor": 0,
  "cells": [
    {
      "cell_type": "code",
      "execution_count": null,
      "outputs": [],
      "metadata": {
        "collapsed": false
      },
      "source": [
        "%matplotlib inline"
      ]
    },
    {
      "cell_type": "markdown",
      "metadata": {},
      "source": [
        "\n# Using a ttf font file in matplotlib\n\n\nAlthough it is usually not a good idea to explicitly point to a single\nttf file for a font instance, you can do so using the\nfont_manager.FontProperties fname argument (for a more flexible\nsolution, see the font_family_rc.py and fonts_demo.py examples).\n\n\n"
      ]
    },
    {
      "cell_type": "code",
      "execution_count": null,
      "outputs": [],
      "metadata": {
        "collapsed": false
      },
      "source": [
        "import sys\nimport os\nimport matplotlib.font_manager as fm\n\nimport matplotlib.pyplot as plt\n\nfig, ax = plt.subplots()\nax.plot([1, 2, 3])\n\nif sys.platform == 'win32':\n    fpath = 'C:\\\\Windows\\\\Fonts\\\\Tahoma.ttf'\nelif sys.platform.startswith('linux'):\n    basedir = '/usr/share/fonts/truetype'\n    fonts = ['freefont/FreeSansBoldOblique.ttf',\n             'ttf-liberation/LiberationSans-BoldItalic.ttf',\n             'msttcorefonts/Comic_Sans_MS.ttf']\n    for fpath in fonts:\n        if os.path.exists(os.path.join(basedir, fpath)):\n            break\nelse:\n    fpath = '/Library/Fonts/Tahoma.ttf'\n\nif os.path.exists(fpath):\n    prop = fm.FontProperties(fname=fpath)\n    fname = os.path.split(fpath)[1]\n    ax.set_title('this is a special font: %s' % fname, fontproperties=prop)\nelse:\n    ax.set_title('Demo fails--cannot find a demo font')\nax.set_xlabel('This is the default font')\n\nplt.show()"
      ]
    }
  ],
  "metadata": {
    "language_info": {
      "version": "3.5.2",
      "pygments_lexer": "ipython3",
      "nbconvert_exporter": "python",
      "name": "python",
      "file_extension": ".py",
      "mimetype": "text/x-python",
      "codemirror_mode": {
        "name": "ipython",
        "version": 3
      }
    },
    "kernelspec": {
      "name": "python3",
      "display_name": "Python 3",
      "language": "python"
    }
  },
  "nbformat": 4
}