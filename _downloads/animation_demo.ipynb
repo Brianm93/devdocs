{
  "metadata": {
    "language_info": {
      "codemirror_mode": {
        "version": 3,
        "name": "ipython"
      },
      "name": "python",
      "pygments_lexer": "ipython3",
      "file_extension": ".py",
      "mimetype": "text/x-python",
      "nbconvert_exporter": "python",
      "version": "3.5.2"
    },
    "kernelspec": {
      "display_name": "Python 3",
      "name": "python3",
      "language": "python"
    }
  },
  "cells": [
    {
      "source": [
        "%matplotlib inline"
      ],
      "metadata": {
        "collapsed": false
      },
      "outputs": [],
      "cell_type": "code",
      "execution_count": null
    },
    {
      "source": [
        "\n# Animation Demo\n\n\nPyplot animation example.\n\nThe method shown here is only for very simple, low-performance\nuse.  For more demanding applications, look at the animation\nmodule and the examples that use it.\n\n"
      ],
      "metadata": {},
      "cell_type": "markdown"
    },
    {
      "source": [
        "import matplotlib.pyplot as plt\nimport numpy as np\n\nx = np.arange(6)\ny = np.arange(5)\nz = x * y[:, np.newaxis]\n\nfor i in range(5):\n    if i == 0:\n        p = plt.imshow(z)\n        fig = plt.gcf()\n        plt.clim()   # clamp the color limits\n        plt.title(\"Boring slide show\")\n    else:\n        z = z + 2\n        p.set_data(z)\n\n    print(\"step\", i)\n    plt.pause(0.5)"
      ],
      "metadata": {
        "collapsed": false
      },
      "outputs": [],
      "cell_type": "code",
      "execution_count": null
    }
  ],
  "nbformat": 4,
  "nbformat_minor": 0
}