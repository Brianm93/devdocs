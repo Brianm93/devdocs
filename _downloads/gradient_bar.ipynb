{
  "cells": [
    {
      "cell_type": "code",
      "execution_count": null,
      "metadata": {
        "collapsed": false
      },
      "source": [
        "%matplotlib inline"
      ],
      "outputs": []
    },
    {
      "cell_type": "markdown",
      "metadata": {},
      "source": [
        "\n# Gradient Bar\n\n\n\n"
      ]
    },
    {
      "cell_type": "code",
      "execution_count": null,
      "metadata": {
        "collapsed": false
      },
      "source": [
        "from matplotlib.pyplot import figure, show, cm\nfrom numpy import arange\nfrom numpy.random import rand\n\n\ndef gbar(ax, x, y, width=0.5, bottom=0):\n    X = [[.6, .6], [.7, .7]]\n    for left, top in zip(x, y):\n        right = left + width\n        ax.imshow(X, interpolation='bicubic', cmap=cm.Blues,\n                  extent=(left, right, bottom, top), alpha=1)\n\nfig = figure()\n\nxmin, xmax = xlim = 0, 10\nymin, ymax = ylim = 0, 1\nax = fig.add_subplot(111, xlim=xlim, ylim=ylim,\n                     autoscale_on=False)\nX = [[.6, .6], [.7, .7]]\n\nax.imshow(X, interpolation='bicubic', cmap=cm.copper,\n          extent=(xmin, xmax, ymin, ymax), alpha=1)\n\nN = 10\nx = arange(N) + 0.25\ny = rand(N)\ngbar(ax, x, y, width=0.7)\nax.set_aspect('auto')\nshow()"
      ],
      "outputs": []
    }
  ],
  "nbformat_minor": 0,
  "metadata": {
    "kernelspec": {
      "display_name": "Python 3",
      "language": "python",
      "name": "python3"
    },
    "language_info": {
      "version": "3.5.2",
      "nbconvert_exporter": "python",
      "mimetype": "text/x-python",
      "codemirror_mode": {
        "version": 3,
        "name": "ipython"
      },
      "file_extension": ".py",
      "pygments_lexer": "ipython3",
      "name": "python"
    }
  },
  "nbformat": 4
}