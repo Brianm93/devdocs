{
  "metadata": {
    "language_info": {
      "codemirror_mode": {
        "version": 3,
        "name": "ipython"
      },
      "name": "python",
      "pygments_lexer": "ipython3",
      "file_extension": ".py",
      "mimetype": "text/x-python",
      "nbconvert_exporter": "python",
      "version": "3.5.2"
    },
    "kernelspec": {
      "display_name": "Python 3",
      "name": "python3",
      "language": "python"
    }
  },
  "cells": [
    {
      "source": [
        "%matplotlib inline"
      ],
      "metadata": {
        "collapsed": false
      },
      "outputs": [],
      "cell_type": "code",
      "execution_count": null
    },
    {
      "source": [
        "\n# Tricontour Vs Griddata\n\n\nComparison of griddata and tricontour for an unstructured triangular grid.\n\n"
      ],
      "metadata": {},
      "cell_type": "markdown"
    },
    {
      "source": [
        "from __future__ import print_function\nimport matplotlib.pyplot as plt\nimport matplotlib.tri as tri\nimport numpy as np\nimport matplotlib.mlab as mlab\nimport time\n\nnp.random.seed(0)\nnpts = 200\nngridx = 100\nngridy = 200\nx = np.random.uniform(-2, 2, npts)\ny = np.random.uniform(-2, 2, npts)\nz = x * np.exp(-x**2 - y**2)\n\n# griddata and contour.\nstart = time.clock()\nplt.subplot(211)\nxi = np.linspace(-2.1, 2.1, ngridx)\nyi = np.linspace(-2.1, 2.1, ngridy)\nzi = mlab.griddata(x, y, z, xi, yi, interp='linear')\nplt.contour(xi, yi, zi, 15, linewidths=0.5, colors='k')\nplt.contourf(xi, yi, zi, 15,\n             norm=plt.Normalize(vmax=abs(zi).max(), vmin=-abs(zi).max()))\nplt.colorbar()  # draw colorbar\nplt.plot(x, y, 'ko', ms=3)\nplt.xlim(-2, 2)\nplt.ylim(-2, 2)\nplt.title('griddata and contour (%d points, %d grid points)' %\n          (npts, ngridx * ngridy))\nprint('griddata and contour: %f seconds' % (time.clock() - start))\n\n# tricontour.\nstart = time.clock()\nplt.subplot(212)\ntriang = tri.Triangulation(x, y)\nplt.tricontour(x, y, z, 15, linewidths=0.5, colors='k')\nplt.tricontourf(x, y, z, 15,\n                norm=plt.Normalize(vmax=abs(zi).max(), vmin=-abs(zi).max()))\nplt.colorbar()\nplt.plot(x, y, 'ko', ms=3)\nplt.xlim(-2, 2)\nplt.ylim(-2, 2)\nplt.title('tricontour (%d points)' % npts)\nprint('tricontour: %f seconds' % (time.clock() - start))\n\nplt.subplots_adjust(hspace=0.5)\n\nplt.show()"
      ],
      "metadata": {
        "collapsed": false
      },
      "outputs": [],
      "cell_type": "code",
      "execution_count": null
    }
  ],
  "nbformat": 4,
  "nbformat_minor": 0
}