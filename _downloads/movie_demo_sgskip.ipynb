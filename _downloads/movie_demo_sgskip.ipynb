{
  "nbformat_minor": 0,
  "cells": [
    {
      "cell_type": "code",
      "execution_count": null,
      "outputs": [],
      "metadata": {
        "collapsed": false
      },
      "source": [
        "%matplotlib inline"
      ]
    },
    {
      "cell_type": "markdown",
      "metadata": {},
      "source": [
        "\n# Movie Demo\n\n\n\n"
      ]
    },
    {
      "cell_type": "code",
      "execution_count": null,
      "outputs": [],
      "metadata": {
        "collapsed": false
      },
      "source": [
        "from __future__ import print_function\n\nimport subprocess\nimport matplotlib.pyplot as plt\nimport numpy as np\n\n# Fixing random state for reproducibility\nnp.random.seed(19680801)\n\n\nfiles = []\n\nfig, ax = plt.subplots(figsize=(5, 5))\nfor i in range(50):  # 50 frames\n    plt.cla()\n    plt.imshow(np.random.rand(5, 5), interpolation='nearest')\n    fname = '_tmp%03d.png' % i\n    print('Saving frame', fname)\n    plt.savefig(fname)\n    files.append(fname)\n\nprint('Making movie animation.mpg - this may take a while')\nsubprocess.call(\"mencoder 'mf://_tmp*.png' -mf type=png:fps=10 -ovc lavc \"\n                \"-lavcopts vcodec=wmv2 -oac copy -o animation.mpg\", shell=True)\n\n# cleanup\nfor fname in files:\n    os.remove(fname)"
      ]
    }
  ],
  "metadata": {
    "language_info": {
      "version": "3.5.2",
      "pygments_lexer": "ipython3",
      "nbconvert_exporter": "python",
      "name": "python",
      "file_extension": ".py",
      "mimetype": "text/x-python",
      "codemirror_mode": {
        "name": "ipython",
        "version": 3
      }
    },
    "kernelspec": {
      "name": "python3",
      "display_name": "Python 3",
      "language": "python"
    }
  },
  "nbformat": 4
}