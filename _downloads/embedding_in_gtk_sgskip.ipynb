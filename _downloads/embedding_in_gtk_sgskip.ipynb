{
  "nbformat_minor": 0,
  "cells": [
    {
      "cell_type": "code",
      "execution_count": null,
      "outputs": [],
      "metadata": {
        "collapsed": false
      },
      "source": [
        "%matplotlib inline"
      ]
    },
    {
      "cell_type": "markdown",
      "metadata": {},
      "source": [
        "\n# Embedding In GTK\n\n\nShow how to add a matplotlib FigureCanvasGTK or FigureCanvasGTKAgg widget to a\ngtk.Window\n\n"
      ]
    },
    {
      "cell_type": "code",
      "execution_count": null,
      "outputs": [],
      "metadata": {
        "collapsed": false
      },
      "source": [
        "import gtk\n\nfrom matplotlib.figure import Figure\nfrom numpy import arange, sin, pi\n\n# uncomment to select /GTK/GTKAgg/GTKCairo\n#from matplotlib.backends.backend_gtk import FigureCanvasGTK as FigureCanvas\nfrom matplotlib.backends.backend_gtkagg import FigureCanvasGTKAgg as FigureCanvas\n#from matplotlib.backends.backend_gtkcairo import FigureCanvasGTKCairo as FigureCanvas\n\n\nwin = gtk.Window()\nwin.connect(\"destroy\", lambda x: gtk.main_quit())\nwin.set_default_size(400, 300)\nwin.set_title(\"Embedding in GTK\")\n\nf = Figure(figsize=(5, 4), dpi=100)\na = f.add_subplot(111)\nt = arange(0.0, 3.0, 0.01)\ns = sin(2*pi*t)\na.plot(t, s)\n\ncanvas = FigureCanvas(f)  # a gtk.DrawingArea\nwin.add(canvas)\n\nwin.show_all()\ngtk.main()"
      ]
    }
  ],
  "metadata": {
    "language_info": {
      "version": "3.5.2",
      "pygments_lexer": "ipython3",
      "nbconvert_exporter": "python",
      "name": "python",
      "file_extension": ".py",
      "mimetype": "text/x-python",
      "codemirror_mode": {
        "name": "ipython",
        "version": 3
      }
    },
    "kernelspec": {
      "name": "python3",
      "display_name": "Python 3",
      "language": "python"
    }
  },
  "nbformat": 4
}