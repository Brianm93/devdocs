{
  "cells": [
    {
      "cell_type": "code",
      "execution_count": null,
      "metadata": {
        "collapsed": false
      },
      "source": [
        "%matplotlib inline"
      ],
      "outputs": []
    },
    {
      "cell_type": "markdown",
      "metadata": {},
      "source": [
        "\n# Date Index Formatter\n\n\nWhen plotting daily data, a frequent request is to plot the data\nignoring skips, e.g., no extra spaces for weekends.  This is particularly\ncommon in financial time series, when you may have data for M-F and\nnot Sat, Sun and you don't want gaps in the x axis.  The approach is\nto simply use the integer index for the xdata and a custom tick\nFormatter to get the appropriate date string for a given index.\n\n"
      ]
    },
    {
      "cell_type": "code",
      "execution_count": null,
      "metadata": {
        "collapsed": false
      },
      "source": [
        "from __future__ import print_function\nimport numpy as np\nfrom matplotlib.mlab import csv2rec\nimport matplotlib.pyplot as plt\nimport matplotlib.cbook as cbook\nfrom matplotlib.ticker import Formatter\n\ndatafile = cbook.get_sample_data('msft.csv', asfileobj=False)\nprint('loading %s' % datafile)\nr = csv2rec(datafile)[-40:]\n\n\nclass MyFormatter(Formatter):\n    def __init__(self, dates, fmt='%Y-%m-%d'):\n        self.dates = dates\n        self.fmt = fmt\n\n    def __call__(self, x, pos=0):\n        'Return the label for time x at position pos'\n        ind = int(np.round(x))\n        if ind >= len(self.dates) or ind < 0:\n            return ''\n\n        return self.dates[ind].strftime(self.fmt)\n\nformatter = MyFormatter(r.date)\n\nfig, ax = plt.subplots()\nax.xaxis.set_major_formatter(formatter)\nax.plot(np.arange(len(r)), r.close, 'o-')\nfig.autofmt_xdate()\nplt.show()"
      ],
      "outputs": []
    }
  ],
  "nbformat_minor": 0,
  "metadata": {
    "kernelspec": {
      "display_name": "Python 3",
      "language": "python",
      "name": "python3"
    },
    "language_info": {
      "version": "3.5.2",
      "nbconvert_exporter": "python",
      "mimetype": "text/x-python",
      "codemirror_mode": {
        "version": 3,
        "name": "ipython"
      },
      "file_extension": ".py",
      "pygments_lexer": "ipython3",
      "name": "python"
    }
  },
  "nbformat": 4
}