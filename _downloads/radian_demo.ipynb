{
  "cells": [
    {
      "cell_type": "code",
      "execution_count": null,
      "metadata": {
        "collapsed": false
      },
      "source": [
        "%matplotlib inline"
      ],
      "outputs": []
    },
    {
      "cell_type": "markdown",
      "metadata": {},
      "source": [
        "\n# Radian ticks\n\n\nPlot with radians from the basic_units mockup example package.\n\n\nThis example shows how the unit class can determine the tick locating,\nformatting and axis labeling.\n\n.. only:: builder_html\n\n   This example requires :download:`basic_units.py <basic_units.py>`\n\n"
      ]
    },
    {
      "cell_type": "code",
      "execution_count": null,
      "metadata": {
        "collapsed": false
      },
      "source": [
        "import numpy as np\nfrom basic_units import radians, degrees, cos\nfrom matplotlib.pyplot import figure, show\n\nx = [val*radians for val in np.arange(0, 15, 0.01)]\n\nfig = figure()\nfig.subplots_adjust(hspace=0.3)\n\nax = fig.add_subplot(211)\nline1, = ax.plot(x, cos(x), xunits=radians)\n\nax = fig.add_subplot(212)\nline2, = ax.plot(x, cos(x), xunits=degrees)\n\nshow()"
      ],
      "outputs": []
    }
  ],
  "nbformat_minor": 0,
  "metadata": {
    "kernelspec": {
      "display_name": "Python 3",
      "language": "python",
      "name": "python3"
    },
    "language_info": {
      "version": "3.5.2",
      "nbconvert_exporter": "python",
      "mimetype": "text/x-python",
      "codemirror_mode": {
        "version": 3,
        "name": "ipython"
      },
      "file_extension": ".py",
      "pygments_lexer": "ipython3",
      "name": "python"
    }
  },
  "nbformat": 4
}