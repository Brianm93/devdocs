{
  "metadata": {
    "language_info": {
      "codemirror_mode": {
        "version": 3,
        "name": "ipython"
      },
      "name": "python",
      "pygments_lexer": "ipython3",
      "file_extension": ".py",
      "mimetype": "text/x-python",
      "nbconvert_exporter": "python",
      "version": "3.5.2"
    },
    "kernelspec": {
      "display_name": "Python 3",
      "name": "python3",
      "language": "python"
    }
  },
  "cells": [
    {
      "source": [
        "%matplotlib inline"
      ],
      "metadata": {
        "collapsed": false
      },
      "outputs": [],
      "cell_type": "code",
      "execution_count": null
    },
    {
      "source": [
        "\n# Keypress Demo\n\n\nShow how to connect to keypress events\n\n"
      ],
      "metadata": {},
      "cell_type": "markdown"
    },
    {
      "source": [
        "from __future__ import print_function\nimport sys\nimport numpy as np\nimport matplotlib.pyplot as plt\n\n\ndef press(event):\n    print('press', event.key)\n    sys.stdout.flush()\n    if event.key == 'x':\n        visible = xl.get_visible()\n        xl.set_visible(not visible)\n        fig.canvas.draw()\n\n# Fixing random state for reproducibility\nnp.random.seed(19680801)\n\n\nfig, ax = plt.subplots()\n\nfig.canvas.mpl_connect('key_press_event', press)\n\nax.plot(np.random.rand(12), np.random.rand(12), 'go')\nxl = ax.set_xlabel('easy come, easy go')\nax.set_title('Press a key')\nplt.show()"
      ],
      "metadata": {
        "collapsed": false
      },
      "outputs": [],
      "cell_type": "code",
      "execution_count": null
    }
  ],
  "nbformat": 4,
  "nbformat_minor": 0
}