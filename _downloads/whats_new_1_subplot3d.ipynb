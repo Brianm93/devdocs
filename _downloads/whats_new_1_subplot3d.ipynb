{
  "cells": [
    {
      "cell_type": "code",
      "execution_count": null,
      "metadata": {
        "collapsed": false
      },
      "source": [
        "%matplotlib inline"
      ],
      "outputs": []
    },
    {
      "cell_type": "markdown",
      "metadata": {},
      "source": [
        "\n# Whats New 1 Subplot3d\n\n\n\n"
      ]
    },
    {
      "cell_type": "code",
      "execution_count": null,
      "metadata": {
        "collapsed": false
      },
      "source": [
        "from mpl_toolkits.mplot3d.axes3d import Axes3D\nfrom matplotlib import cm\n#from matplotlib.ticker import LinearLocator, FixedLocator, FormatStrFormatter\nimport matplotlib.pyplot as plt\nimport numpy as np\n\nfig = plt.figure()\n\nax = fig.add_subplot(1, 2, 1, projection='3d')\nX = np.arange(-5, 5, 0.25)\nY = np.arange(-5, 5, 0.25)\nX, Y = np.meshgrid(X, Y)\nR = np.sqrt(X**2 + Y**2)\nZ = np.sin(R)\nsurf = ax.plot_surface(X, Y, Z, rstride=1, cstride=1, cmap=cm.jet,\n        linewidth=0, antialiased=False)\nax.set_zlim3d(-1.01, 1.01)\n\n#ax.w_zaxis.set_major_locator(LinearLocator(10))\n#ax.w_zaxis.set_major_formatter(FormatStrFormatter('%.03f'))\n\nfig.colorbar(surf, shrink=0.5, aspect=5)\n\nfrom mpl_toolkits.mplot3d.axes3d import get_test_data\nax = fig.add_subplot(1, 2, 2, projection='3d')\nX, Y, Z = get_test_data(0.05)\nax.plot_wireframe(X, Y, Z, rstride=10, cstride=10)\n\nplt.show()"
      ],
      "outputs": []
    }
  ],
  "nbformat_minor": 0,
  "metadata": {
    "kernelspec": {
      "display_name": "Python 3",
      "language": "python",
      "name": "python3"
    },
    "language_info": {
      "version": "3.5.2",
      "nbconvert_exporter": "python",
      "mimetype": "text/x-python",
      "codemirror_mode": {
        "version": 3,
        "name": "ipython"
      },
      "file_extension": ".py",
      "pygments_lexer": "ipython3",
      "name": "python"
    }
  },
  "nbformat": 4
}