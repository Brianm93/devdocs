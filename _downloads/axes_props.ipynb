{
  "cells": [
    {
      "cell_type": "code",
      "execution_count": null,
      "metadata": {
        "collapsed": false
      },
      "source": [
        "%matplotlib inline"
      ],
      "outputs": []
    },
    {
      "cell_type": "markdown",
      "metadata": {},
      "source": [
        "\n# Axes Props\n\n\nYou can control the axis tick and grid properties\n\n"
      ]
    },
    {
      "cell_type": "code",
      "execution_count": null,
      "metadata": {
        "collapsed": false
      },
      "source": [
        "import matplotlib.pyplot as plt\nimport numpy as np\n\nt = np.arange(0.0, 2.0, 0.01)\ns = np.sin(2 * np.pi * t)\nfig, ax = plt.subplots()\nax.plot(t, s)\nax.grid(True)\n\nticklines = ax.get_xticklines() + ax.get_yticklines()\ngridlines = ax.get_xgridlines() + ax.get_ygridlines()\nticklabels = ax.get_xticklabels() + ax.get_yticklabels()\n\nfor line in ticklines:\n    line.set_linewidth(3)\n\nfor line in gridlines:\n    line.set_linestyle('-.')\n\nfor label in ticklabels:\n    label.set_color('r')\n    label.set_fontsize('medium')\n\nplt.show()"
      ],
      "outputs": []
    }
  ],
  "nbformat_minor": 0,
  "metadata": {
    "kernelspec": {
      "display_name": "Python 3",
      "language": "python",
      "name": "python3"
    },
    "language_info": {
      "version": "3.5.2",
      "nbconvert_exporter": "python",
      "mimetype": "text/x-python",
      "codemirror_mode": {
        "version": 3,
        "name": "ipython"
      },
      "file_extension": ".py",
      "pygments_lexer": "ipython3",
      "name": "python"
    }
  },
  "nbformat": 4
}