{
  "metadata": {
    "language_info": {
      "codemirror_mode": {
        "version": 3,
        "name": "ipython"
      },
      "name": "python",
      "pygments_lexer": "ipython3",
      "file_extension": ".py",
      "mimetype": "text/x-python",
      "nbconvert_exporter": "python",
      "version": "3.5.2"
    },
    "kernelspec": {
      "display_name": "Python 3",
      "name": "python3",
      "language": "python"
    }
  },
  "cells": [
    {
      "source": [
        "%matplotlib inline"
      ],
      "metadata": {
        "collapsed": false
      },
      "outputs": [],
      "cell_type": "code",
      "execution_count": null
    },
    {
      "source": [
        "\n# A simple plot with a custom dashed line\n\n\nA Line object's ``set_dashes`` method allows you to specify dashes with\na series of on/off lengths (in points).\n\n"
      ],
      "metadata": {},
      "cell_type": "markdown"
    },
    {
      "source": [
        "import numpy as np\nimport matplotlib.pyplot as plt\n\n\nx = np.linspace(0, 10, 500)\ndashes = [10, 5, 100, 5]  # 10 points on, 5 off, 100 on, 5 off\n\nfig, ax = plt.subplots()\nline1, = ax.plot(x, np.sin(x), '--', linewidth=2,\n                 label='Dashes set retroactively')\nline1.set_dashes(dashes)\n\nline2, = ax.plot(x, -1 * np.sin(x), dashes=[30, 5, 10, 5],\n                 label='Dashes set proactively')\n\nax.legend(loc='lower right')\nplt.show()"
      ],
      "metadata": {
        "collapsed": false
      },
      "outputs": [],
      "cell_type": "code",
      "execution_count": null
    }
  ],
  "nbformat": 4,
  "nbformat_minor": 0
}