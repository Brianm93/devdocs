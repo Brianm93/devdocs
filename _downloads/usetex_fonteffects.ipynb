{
  "cells": [
    {
      "cell_type": "code",
      "execution_count": null,
      "metadata": {
        "collapsed": false
      },
      "source": [
        "%matplotlib inline"
      ],
      "outputs": []
    },
    {
      "cell_type": "markdown",
      "metadata": {},
      "source": [
        "\n# Usetex Fonteffects\n\n\nThis script demonstrates that font effects specified in your pdftex.map\nare now supported in pdf usetex.\n\n"
      ]
    },
    {
      "cell_type": "code",
      "execution_count": null,
      "metadata": {
        "collapsed": false
      },
      "source": [
        "import matplotlib\nimport matplotlib.pyplot as plt\nmatplotlib.rc('text', usetex=True)\n\n\ndef setfont(font):\n    return r'\\font\\a %s at 14pt\\a ' % font\n\nfor y, font, text in zip(range(5),\n                         ['ptmr8r', 'ptmri8r', 'ptmro8r', 'ptmr8rn', 'ptmrr8re'],\n                         ['Nimbus Roman No9 L ' + x for x in\n                          ['', 'Italics (real italics for comparison)',\n                           '(slanted)', '(condensed)', '(extended)']]):\n    plt.text(0, y, setfont(font) + text)\n\nplt.ylim(-1, 5)\nplt.xlim(-0.2, 0.6)\nplt.setp(plt.gca(), frame_on=False, xticks=(), yticks=())\nplt.title('Usetex font effects')\nplt.savefig('usetex_fonteffects.pdf')"
      ],
      "outputs": []
    }
  ],
  "nbformat_minor": 0,
  "metadata": {
    "kernelspec": {
      "display_name": "Python 3",
      "language": "python",
      "name": "python3"
    },
    "language_info": {
      "version": "3.5.2",
      "nbconvert_exporter": "python",
      "mimetype": "text/x-python",
      "codemirror_mode": {
        "version": 3,
        "name": "ipython"
      },
      "file_extension": ".py",
      "pygments_lexer": "ipython3",
      "name": "python"
    }
  },
  "nbformat": 4
}