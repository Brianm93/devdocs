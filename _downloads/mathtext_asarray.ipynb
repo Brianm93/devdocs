{
  "metadata": {
    "language_info": {
      "codemirror_mode": {
        "version": 3,
        "name": "ipython"
      },
      "name": "python",
      "pygments_lexer": "ipython3",
      "file_extension": ".py",
      "mimetype": "text/x-python",
      "nbconvert_exporter": "python",
      "version": "3.5.2"
    },
    "kernelspec": {
      "display_name": "Python 3",
      "name": "python3",
      "language": "python"
    }
  },
  "cells": [
    {
      "source": [
        "%matplotlib inline"
      ],
      "metadata": {
        "collapsed": false
      },
      "outputs": [],
      "cell_type": "code",
      "execution_count": null
    },
    {
      "source": [
        "\n# A mathtext image as numpy array\n\n\nThis example shows how to make images from LaTeX strings.\n\n"
      ],
      "metadata": {},
      "cell_type": "markdown"
    },
    {
      "source": [
        "import matplotlib.mathtext as mathtext\nimport matplotlib.pyplot as plt\nimport matplotlib\nmatplotlib.rc('image', origin='upper')\n\nparser = mathtext.MathTextParser(\"Bitmap\")\nparser.to_png('test2.png',\n              r'$\\left[\\left\\lfloor\\frac{5}{\\frac{\\left(3\\right)}{4}} '\n              r'y\\right)\\right]$', color='green', fontsize=14, dpi=100)\n\nrgba1, depth1 = parser.to_rgba(\n    r'IQ: $\\sigma_i=15$', color='blue', fontsize=20, dpi=200)\nrgba2, depth2 = parser.to_rgba(\n    r'some other string', color='red', fontsize=20, dpi=200)\n\nfig = plt.figure()\nfig.figimage(rgba1.astype(float)/255., 100, 100)\nfig.figimage(rgba2.astype(float)/255., 100, 300)\n\nplt.show()"
      ],
      "metadata": {
        "collapsed": false
      },
      "outputs": [],
      "cell_type": "code",
      "execution_count": null
    }
  ],
  "nbformat": 4,
  "nbformat_minor": 0
}