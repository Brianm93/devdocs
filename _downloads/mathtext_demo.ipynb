{
  "cells": [
    {
      "cell_type": "code",
      "execution_count": null,
      "metadata": {
        "collapsed": false
      },
      "source": [
        "%matplotlib inline"
      ],
      "outputs": []
    },
    {
      "cell_type": "markdown",
      "metadata": {},
      "source": [
        "\n# Mathtext Demo\n\n\nUse matplotlib's internal LaTeX parser and layout engine.  For true\nlatex rendering, see the text.usetex option\n\n"
      ]
    },
    {
      "cell_type": "code",
      "execution_count": null,
      "metadata": {
        "collapsed": false
      },
      "source": [
        "import numpy as np\nfrom matplotlib.pyplot import figure, show\n\nfig = figure()\nfig.subplots_adjust(bottom=0.2)\n\nax = fig.add_subplot(111)\nax.plot([1, 2, 3], 'r')\nx = np.arange(0.0, 3.0, 0.1)\n\nax.grid(True)\nax.set_xlabel(r'$\\Delta_i^j$', fontsize=20)\nax.set_ylabel(r'$\\Delta_{i+1}^j$', fontsize=20)\ntex = r'$\\mathcal{R}\\prod_{i=\\alpha_{i+1}}^\\infty a_i\\sin(2 \\pi f x_i)$'\n\nax.text(1, 1.6, tex, fontsize=20, va='bottom')\n\nax.legend([r\"$\\sqrt{x^2}$\"])\n\nax.set_title(r'$\\Delta_i^j \\hspace{0.4} \\mathrm{versus} \\hspace{0.4} '\n             r'\\Delta_{i+1}^j$', fontsize=20)\n\nshow()"
      ],
      "outputs": []
    }
  ],
  "nbformat_minor": 0,
  "metadata": {
    "kernelspec": {
      "display_name": "Python 3",
      "language": "python",
      "name": "python3"
    },
    "language_info": {
      "version": "3.5.2",
      "nbconvert_exporter": "python",
      "mimetype": "text/x-python",
      "codemirror_mode": {
        "version": 3,
        "name": "ipython"
      },
      "file_extension": ".py",
      "pygments_lexer": "ipython3",
      "name": "python"
    }
  },
  "nbformat": 4
}