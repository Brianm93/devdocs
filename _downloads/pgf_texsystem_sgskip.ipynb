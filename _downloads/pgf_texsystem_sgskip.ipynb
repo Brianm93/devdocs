{
  "nbformat_minor": 0,
  "cells": [
    {
      "cell_type": "code",
      "execution_count": null,
      "outputs": [],
      "metadata": {
        "collapsed": false
      },
      "source": [
        "%matplotlib inline"
      ]
    },
    {
      "cell_type": "markdown",
      "metadata": {},
      "source": [
        "\n# Pgf Texsystem\n\n\n\n"
      ]
    },
    {
      "cell_type": "code",
      "execution_count": null,
      "outputs": [],
      "metadata": {
        "collapsed": false
      },
      "source": [
        "# -*- coding: utf-8 -*-\n\nimport matplotlib as mpl\nmpl.use(\"pgf\")\npgf_with_pdflatex = {\n    \"pgf.texsystem\": \"pdflatex\",\n    \"pgf.preamble\": [\n         r\"\\usepackage[utf8x]{inputenc}\",\n         r\"\\usepackage[T1]{fontenc}\",\n         r\"\\usepackage{cmbright}\",\n         ]\n}\nmpl.rcParams.update(pgf_with_pdflatex)\n\nimport matplotlib.pyplot as plt\nplt.figure(figsize=(4.5, 2.5))\nplt.plot(range(5))\nplt.text(0.5, 3., \"serif\", family=\"serif\")\nplt.text(0.5, 2., \"monospace\", family=\"monospace\")\nplt.text(2.5, 2., \"sans-serif\", family=\"sans-serif\")\nplt.xlabel(u\"\u00b5 is not $\\\\mu$\")\nplt.tight_layout(.5)\n\nplt.savefig(\"pgf_texsystem.pdf\")\nplt.savefig(\"pgf_texsystem.png\")"
      ]
    }
  ],
  "metadata": {
    "language_info": {
      "version": "3.5.2",
      "pygments_lexer": "ipython3",
      "nbconvert_exporter": "python",
      "name": "python",
      "file_extension": ".py",
      "mimetype": "text/x-python",
      "codemirror_mode": {
        "name": "ipython",
        "version": 3
      }
    },
    "kernelspec": {
      "name": "python3",
      "display_name": "Python 3",
      "language": "python"
    }
  },
  "nbformat": 4
}