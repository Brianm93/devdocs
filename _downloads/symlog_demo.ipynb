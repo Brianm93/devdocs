{
  "cells": [
    {
      "cell_type": "code",
      "execution_count": null,
      "metadata": {
        "collapsed": false
      },
      "source": [
        "%matplotlib inline"
      ],
      "outputs": []
    },
    {
      "cell_type": "markdown",
      "metadata": {},
      "source": [
        "\n# Symlog Demo\n\n\n\n"
      ]
    },
    {
      "cell_type": "code",
      "execution_count": null,
      "metadata": {
        "collapsed": false
      },
      "source": [
        "import matplotlib.pyplot as plt\nimport numpy as np\n\ndt = 0.01\nx = np.arange(-50.0, 50.0, dt)\ny = np.arange(0, 100.0, dt)\n\nplt.subplot(311)\nplt.plot(x, y)\nplt.xscale('symlog')\nplt.ylabel('symlogx')\nplt.grid(True)\nplt.gca().xaxis.grid(True, which='minor')  # minor grid on too\n\nplt.subplot(312)\nplt.plot(y, x)\nplt.yscale('symlog')\nplt.ylabel('symlogy')\n\nplt.subplot(313)\nplt.plot(x, np.sin(x / 3.0))\nplt.xscale('symlog')\nplt.yscale('symlog', linthreshy=0.015)\nplt.grid(True)\nplt.ylabel('symlog both')\n\nplt.subplots_adjust(hspace=0.5, left=0.2)\n\nplt.show()"
      ],
      "outputs": []
    }
  ],
  "nbformat_minor": 0,
  "metadata": {
    "kernelspec": {
      "display_name": "Python 3",
      "language": "python",
      "name": "python3"
    },
    "language_info": {
      "version": "3.5.2",
      "nbconvert_exporter": "python",
      "mimetype": "text/x-python",
      "codemirror_mode": {
        "version": 3,
        "name": "ipython"
      },
      "file_extension": ".py",
      "pygments_lexer": "ipython3",
      "name": "python"
    }
  },
  "nbformat": 4
}