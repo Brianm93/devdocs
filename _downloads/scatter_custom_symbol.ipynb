{
  "metadata": {
    "language_info": {
      "codemirror_mode": {
        "version": 3,
        "name": "ipython"
      },
      "name": "python",
      "pygments_lexer": "ipython3",
      "file_extension": ".py",
      "mimetype": "text/x-python",
      "nbconvert_exporter": "python",
      "version": "3.5.2"
    },
    "kernelspec": {
      "display_name": "Python 3",
      "name": "python3",
      "language": "python"
    }
  },
  "cells": [
    {
      "source": [
        "%matplotlib inline"
      ],
      "metadata": {
        "collapsed": false
      },
      "outputs": [],
      "cell_type": "code",
      "execution_count": null
    },
    {
      "source": [
        "\n# Scatter Custom Symbol\n\n\n\n"
      ],
      "metadata": {},
      "cell_type": "markdown"
    },
    {
      "source": [
        "import matplotlib.pyplot as plt\nimport numpy as np\n\n# unit area ellipse\nrx, ry = 3., 1.\narea = rx * ry * np.pi\ntheta = np.arange(0, 2 * np.pi + 0.01, 0.1)\nverts = list(zip(rx / area * np.cos(theta), ry / area * np.sin(theta)))\n\nx, y, s, c = np.random.rand(4, 30)\ns *= 10**2.\n\nfig, ax = plt.subplots()\nax.scatter(x, y, s, c, marker=None, verts=verts)\n\nplt.show()"
      ],
      "metadata": {
        "collapsed": false
      },
      "outputs": [],
      "cell_type": "code",
      "execution_count": null
    }
  ],
  "nbformat": 4,
  "nbformat_minor": 0
}