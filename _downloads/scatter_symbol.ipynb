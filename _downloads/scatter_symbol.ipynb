{
  "metadata": {
    "language_info": {
      "codemirror_mode": {
        "version": 3,
        "name": "ipython"
      },
      "name": "python",
      "pygments_lexer": "ipython3",
      "file_extension": ".py",
      "mimetype": "text/x-python",
      "nbconvert_exporter": "python",
      "version": "3.5.2"
    },
    "kernelspec": {
      "display_name": "Python 3",
      "name": "python3",
      "language": "python"
    }
  },
  "cells": [
    {
      "source": [
        "%matplotlib inline"
      ],
      "metadata": {
        "collapsed": false
      },
      "outputs": [],
      "cell_type": "code",
      "execution_count": null
    },
    {
      "source": [
        "\n# Scatter Symbol\n\n\n\n"
      ],
      "metadata": {},
      "cell_type": "markdown"
    },
    {
      "source": [
        "from matplotlib import pyplot as plt\nimport numpy as np\nimport matplotlib\n\n# Fixing random state for reproducibility\nnp.random.seed(19680801)\n\n\nx = np.arange(0.0, 50.0, 2.0)\ny = x ** 1.3 + np.random.rand(*x.shape) * 30.0\ns = np.random.rand(*x.shape) * 800 + 500\n\nplt.scatter(x, y, s, c=\"g\", alpha=0.5, marker=r'$\\clubsuit$',\n            label=\"Luck\")\nplt.xlabel(\"Leprechauns\")\nplt.ylabel(\"Gold\")\nplt.legend(loc=2)\nplt.show()"
      ],
      "metadata": {
        "collapsed": false
      },
      "outputs": [],
      "cell_type": "code",
      "execution_count": null
    }
  ],
  "nbformat": 4,
  "nbformat_minor": 0
}