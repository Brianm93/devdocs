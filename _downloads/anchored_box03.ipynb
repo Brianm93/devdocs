{
  "cells": [
    {
      "cell_type": "code",
      "execution_count": null,
      "metadata": {
        "collapsed": false
      },
      "source": [
        "%matplotlib inline"
      ],
      "outputs": []
    },
    {
      "cell_type": "markdown",
      "metadata": {},
      "source": [
        "\n# Anchored Box03\n\n\n\n"
      ]
    },
    {
      "cell_type": "code",
      "execution_count": null,
      "metadata": {
        "collapsed": false
      },
      "source": [
        "from matplotlib.patches import Ellipse\nimport matplotlib.pyplot as plt\nfrom mpl_toolkits.axes_grid1.anchored_artists import AnchoredAuxTransformBox\n\n\nfig, ax = plt.subplots(figsize=(3, 3))\n\nbox = AnchoredAuxTransformBox(ax.transData, loc=2)\nel = Ellipse((0, 0), width=0.1, height=0.4, angle=30)  # in data coordinates!\nbox.drawing_area.add_artist(el)\n\nax.add_artist(box)\n\nplt.show()"
      ],
      "outputs": []
    }
  ],
  "nbformat_minor": 0,
  "metadata": {
    "kernelspec": {
      "display_name": "Python 3",
      "language": "python",
      "name": "python3"
    },
    "language_info": {
      "version": "3.5.2",
      "nbconvert_exporter": "python",
      "mimetype": "text/x-python",
      "codemirror_mode": {
        "version": 3,
        "name": "ipython"
      },
      "file_extension": ".py",
      "pygments_lexer": "ipython3",
      "name": "python"
    }
  },
  "nbformat": 4
}