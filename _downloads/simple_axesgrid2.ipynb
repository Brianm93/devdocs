{
  "metadata": {
    "language_info": {
      "codemirror_mode": {
        "version": 3,
        "name": "ipython"
      },
      "name": "python",
      "pygments_lexer": "ipython3",
      "file_extension": ".py",
      "mimetype": "text/x-python",
      "nbconvert_exporter": "python",
      "version": "3.5.2"
    },
    "kernelspec": {
      "display_name": "Python 3",
      "name": "python3",
      "language": "python"
    }
  },
  "cells": [
    {
      "source": [
        "%matplotlib inline"
      ],
      "metadata": {
        "collapsed": false
      },
      "outputs": [],
      "cell_type": "code",
      "execution_count": null
    },
    {
      "source": [
        "\n# Simple Axesgrid2\n\n\n\n"
      ],
      "metadata": {},
      "cell_type": "markdown"
    },
    {
      "source": [
        "import matplotlib.pyplot as plt\nfrom mpl_toolkits.axes_grid1 import ImageGrid\n\n\ndef get_demo_image():\n    import numpy as np\n    from matplotlib.cbook import get_sample_data\n    f = get_sample_data(\"axes_grid/bivariate_normal.npy\", asfileobj=False)\n    z = np.load(f)\n    # z is a numpy array of 15x15\n    return z, (-3, 4, -4, 3)\n\nF = plt.figure(1, (5.5, 3.5))\ngrid = ImageGrid(F, 111,  # similar to subplot(111)\n                 nrows_ncols=(1, 3),\n                 axes_pad=0.1,\n                 add_all=True,\n                 label_mode=\"L\",\n                 )\n\nZ, extent = get_demo_image()  # demo image\n\nim1 = Z\nim2 = Z[:, :10]\nim3 = Z[:, 10:]\nvmin, vmax = Z.min(), Z.max()\nfor i, im in enumerate([im1, im2, im3]):\n    ax = grid[i]\n    ax.imshow(im, origin=\"lower\", vmin=vmin,\n              vmax=vmax, interpolation=\"nearest\")\n\nplt.draw()\nplt.show()"
      ],
      "metadata": {
        "collapsed": false
      },
      "outputs": [],
      "cell_type": "code",
      "execution_count": null
    }
  ],
  "nbformat": 4,
  "nbformat_minor": 0
}