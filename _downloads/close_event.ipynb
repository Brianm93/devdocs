{
  "metadata": {
    "language_info": {
      "codemirror_mode": {
        "version": 3,
        "name": "ipython"
      },
      "name": "python",
      "pygments_lexer": "ipython3",
      "file_extension": ".py",
      "mimetype": "text/x-python",
      "nbconvert_exporter": "python",
      "version": "3.5.2"
    },
    "kernelspec": {
      "display_name": "Python 3",
      "name": "python3",
      "language": "python"
    }
  },
  "cells": [
    {
      "source": [
        "%matplotlib inline"
      ],
      "metadata": {
        "collapsed": false
      },
      "outputs": [],
      "cell_type": "code",
      "execution_count": null
    },
    {
      "source": [
        "\n# Close Event\n\n\n\n"
      ],
      "metadata": {},
      "cell_type": "markdown"
    },
    {
      "source": [
        "from __future__ import print_function\nimport matplotlib.pyplot as plt\n\n\ndef handle_close(evt):\n    print('Closed Figure!')\n\nfig = plt.figure()\nfig.canvas.mpl_connect('close_event', handle_close)\n\nplt.text(0.35, 0.5, 'Close Me!', dict(size=30))\nplt.show()"
      ],
      "metadata": {
        "collapsed": false
      },
      "outputs": [],
      "cell_type": "code",
      "execution_count": null
    }
  ],
  "nbformat": 4,
  "nbformat_minor": 0
}