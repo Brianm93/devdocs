{
  "metadata": {
    "language_info": {
      "codemirror_mode": {
        "version": 3,
        "name": "ipython"
      },
      "name": "python",
      "pygments_lexer": "ipython3",
      "file_extension": ".py",
      "mimetype": "text/x-python",
      "nbconvert_exporter": "python",
      "version": "3.5.2"
    },
    "kernelspec": {
      "display_name": "Python 3",
      "name": "python3",
      "language": "python"
    }
  },
  "cells": [
    {
      "source": [
        "%matplotlib inline"
      ],
      "metadata": {
        "collapsed": false
      },
      "outputs": [],
      "cell_type": "code",
      "execution_count": null
    },
    {
      "source": [
        "\n# Frontpage plot example\n\n\nThis example reproduces the frontpage simple plot example.\n\n"
      ],
      "metadata": {},
      "cell_type": "markdown"
    },
    {
      "source": [
        "import matplotlib.pyplot as plt\nimport matplotlib.cbook as cbook\nimport numpy as np\n\n\nwith cbook.get_sample_data('membrane.dat') as datafile:\n    x = np.fromfile(datafile, np.float32)\n# 0.0005 is the sample interval\n\nfig, ax = plt.subplots()\nax.plot(x, linewidth=4)\nax.set_xlim(5000, 6000)\nax.set_ylim(-0.6, 0.1)\nax.set_xticks([])\nax.set_yticks([])\nfig.savefig(\"membrane_frontpage.png\", dpi=25)  # results in 160x120 px image"
      ],
      "metadata": {
        "collapsed": false
      },
      "outputs": [],
      "cell_type": "code",
      "execution_count": null
    }
  ],
  "nbformat": 4,
  "nbformat_minor": 0
}