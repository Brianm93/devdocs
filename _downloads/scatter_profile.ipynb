{
  "metadata": {
    "language_info": {
      "codemirror_mode": {
        "version": 3,
        "name": "ipython"
      },
      "name": "python",
      "pygments_lexer": "ipython3",
      "file_extension": ".py",
      "mimetype": "text/x-python",
      "nbconvert_exporter": "python",
      "version": "3.5.2"
    },
    "kernelspec": {
      "display_name": "Python 3",
      "name": "python3",
      "language": "python"
    }
  },
  "cells": [
    {
      "source": [
        "%matplotlib inline"
      ],
      "metadata": {
        "collapsed": false
      },
      "outputs": [],
      "cell_type": "code",
      "execution_count": null
    },
    {
      "source": [
        "\n# Scatter Profile\n\n\nGenerate a scatterplot.\n\n\n=====   =======   =============   =============\nN       Classic   Base renderer   Ext renderer\n=====   =======   =============   =============\n20      0.22      0.14            0.14\n100     0.16      0.14            0.13\n1000    0.45      0.26            0.17\n10000   3.30      1.31            0.53\n50000   19.30     6.53            1.98\n=====   =======   =============   =============\n\n\n"
      ],
      "metadata": {},
      "cell_type": "markdown"
    },
    {
      "source": [
        "from __future__ import print_function  # only needed for python 2.x\nimport matplotlib.pyplot as plt\nimport numpy as np\n\nimport time\n\n# Fixing random state for reproducibility\nnp.random.seed(19680801)\n\n\nfor N in (20, 100, 1000, 10000, 50000):\n    tstart = time.time()\n    x = 0.9 * np.random.rand(N)\n    y = 0.9 * np.random.rand(N)\n    s = 20 * np.random.rand(N)\n    plt.scatter(x, y, s)\n    print('%d symbols in %1.2f s' % (N, time.time() - tstart))"
      ],
      "metadata": {
        "collapsed": false
      },
      "outputs": [],
      "cell_type": "code",
      "execution_count": null
    }
  ],
  "nbformat": 4,
  "nbformat_minor": 0
}