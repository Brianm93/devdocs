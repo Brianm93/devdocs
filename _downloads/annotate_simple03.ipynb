{
  "cells": [
    {
      "cell_type": "code",
      "execution_count": null,
      "metadata": {
        "collapsed": false
      },
      "source": [
        "%matplotlib inline"
      ],
      "outputs": []
    },
    {
      "cell_type": "markdown",
      "metadata": {},
      "source": [
        "\n# Annotate Simple03\n\n\n\n"
      ]
    },
    {
      "cell_type": "code",
      "execution_count": null,
      "metadata": {
        "collapsed": false
      },
      "source": [
        "import matplotlib.pyplot as plt\n\n\nfig, ax = plt.subplots(figsize=(3, 3))\n\nann = ax.annotate(\"Test\",\n                  xy=(0.2, 0.2), xycoords='data',\n                  xytext=(0.8, 0.8), textcoords='data',\n                  size=20, va=\"center\", ha=\"center\",\n                  bbox=dict(boxstyle=\"round4\", fc=\"w\"),\n                  arrowprops=dict(arrowstyle=\"-|>\",\n                                  connectionstyle=\"arc3,rad=-0.2\",\n                                  fc=\"w\"),\n                  )\n\nplt.show()"
      ],
      "outputs": []
    }
  ],
  "nbformat_minor": 0,
  "metadata": {
    "kernelspec": {
      "display_name": "Python 3",
      "language": "python",
      "name": "python3"
    },
    "language_info": {
      "version": "3.5.2",
      "nbconvert_exporter": "python",
      "mimetype": "text/x-python",
      "codemirror_mode": {
        "version": 3,
        "name": "ipython"
      },
      "file_extension": ".py",
      "pygments_lexer": "ipython3",
      "name": "python"
    }
  },
  "nbformat": 4
}