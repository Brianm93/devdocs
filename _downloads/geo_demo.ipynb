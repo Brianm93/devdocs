{
  "cells": [
    {
      "cell_type": "code",
      "execution_count": null,
      "metadata": {
        "collapsed": false
      },
      "source": [
        "%matplotlib inline"
      ],
      "outputs": []
    },
    {
      "cell_type": "markdown",
      "metadata": {},
      "source": [
        "\n# Geographic Projections\n\n\nThis shows 4 possible projections using subplot.  Matplotlib also\nsupports `Basemaps Toolkit <https://matplotlib.org/basemap>`_ and\n`Cartopy <http://scitools.org.uk/cartopy>`_ for geographic projections.\n\n\n"
      ]
    },
    {
      "cell_type": "code",
      "execution_count": null,
      "metadata": {
        "collapsed": false
      },
      "source": [
        "import matplotlib.pyplot as plt\n\nplt.figure()\nplt.subplot(111, projection=\"aitoff\")\nplt.title(\"Aitoff\")\nplt.grid(True)\n\nplt.figure()\nplt.subplot(111, projection=\"hammer\")\nplt.title(\"Hammer\")\nplt.grid(True)\n\nplt.figure()\nplt.subplot(111, projection=\"lambert\")\nplt.title(\"Lambert\")\nplt.grid(True)\n\nplt.figure()\nplt.subplot(111, projection=\"mollweide\")\nplt.title(\"Mollweide\")\nplt.grid(True)\n\nplt.show()"
      ],
      "outputs": []
    }
  ],
  "nbformat_minor": 0,
  "metadata": {
    "kernelspec": {
      "display_name": "Python 3",
      "language": "python",
      "name": "python3"
    },
    "language_info": {
      "version": "3.5.2",
      "nbconvert_exporter": "python",
      "mimetype": "text/x-python",
      "codemirror_mode": {
        "version": 3,
        "name": "ipython"
      },
      "file_extension": ".py",
      "pygments_lexer": "ipython3",
      "name": "python"
    }
  },
  "nbformat": 4
}