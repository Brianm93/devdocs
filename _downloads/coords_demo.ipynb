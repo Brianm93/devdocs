{
  "cells": [
    {
      "cell_type": "code",
      "execution_count": null,
      "metadata": {
        "collapsed": false
      },
      "source": [
        "%matplotlib inline"
      ],
      "outputs": []
    },
    {
      "cell_type": "markdown",
      "metadata": {},
      "source": [
        "\n# Coords Demo\n\n\nAn example of how to interact with the plotting canvas by connecting\nto move and click events\n\n"
      ]
    },
    {
      "cell_type": "code",
      "execution_count": null,
      "metadata": {
        "collapsed": false
      },
      "source": [
        "from __future__ import print_function\nimport sys\nimport matplotlib.pyplot as plt\nimport numpy as np\n\nt = np.arange(0.0, 1.0, 0.01)\ns = np.sin(2*np.pi*t)\nfig, ax = plt.subplots()\nax.plot(t, s)\n\n\ndef on_move(event):\n    # get the x and y pixel coords\n    x, y = event.x, event.y\n\n    if event.inaxes:\n        ax = event.inaxes  # the axes instance\n        print('data coords %f %f' % (event.xdata, event.ydata))\n\n\ndef on_click(event):\n    # get the x and y coords, flip y from top to bottom\n    x, y = event.x, event.y\n    if event.button == 1:\n        if event.inaxes is not None:\n            print('data coords %f %f' % (event.xdata, event.ydata))\n\nbinding_id = plt.connect('motion_notify_event', on_move)\nplt.connect('button_press_event', on_click)\n\nif \"test_disconnect\" in sys.argv:\n    print(\"disconnecting console coordinate printout...\")\n    plt.disconnect(binding_id)\n\nplt.show()"
      ],
      "outputs": []
    }
  ],
  "nbformat_minor": 0,
  "metadata": {
    "kernelspec": {
      "display_name": "Python 3",
      "language": "python",
      "name": "python3"
    },
    "language_info": {
      "version": "3.5.2",
      "nbconvert_exporter": "python",
      "mimetype": "text/x-python",
      "codemirror_mode": {
        "version": 3,
        "name": "ipython"
      },
      "file_extension": ".py",
      "pygments_lexer": "ipython3",
      "name": "python"
    }
  },
  "nbformat": 4
}