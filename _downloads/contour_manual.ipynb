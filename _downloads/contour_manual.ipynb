{
  "metadata": {
    "language_info": {
      "codemirror_mode": {
        "version": 3,
        "name": "ipython"
      },
      "name": "python",
      "pygments_lexer": "ipython3",
      "file_extension": ".py",
      "mimetype": "text/x-python",
      "nbconvert_exporter": "python",
      "version": "3.5.2"
    },
    "kernelspec": {
      "display_name": "Python 3",
      "name": "python3",
      "language": "python"
    }
  },
  "cells": [
    {
      "source": [
        "%matplotlib inline"
      ],
      "metadata": {
        "collapsed": false
      },
      "outputs": [],
      "cell_type": "code",
      "execution_count": null
    },
    {
      "source": [
        "\n# Manual Contour\n\n\nExample of displaying your own contour lines and polygons using ContourSet.\n\n"
      ],
      "metadata": {},
      "cell_type": "markdown"
    },
    {
      "source": [
        "import matplotlib.pyplot as plt\nfrom matplotlib.contour import ContourSet\nimport matplotlib.cm as cm\n\n# Contour lines for each level are a list/tuple of polygons.\nlines0 = [[[0, 0], [0, 4]]]\nlines1 = [[[2, 0], [1, 2], [1, 3]]]\nlines2 = [[[3, 0], [3, 2]], [[3, 3], [3, 4]]]  # Note two lines.\n\n# Filled contours between two levels are also a list/tuple of polygons.\n# Points can be ordered clockwise or anticlockwise.\nfilled01 = [[[0, 0], [0, 4], [1, 3], [1, 2], [2, 0]]]\nfilled12 = [[[2, 0], [3, 0], [3, 2], [1, 3], [1, 2]],   # Note two polygons.\n            [[1, 4], [3, 4], [3, 3]]]\n\n\nplt.figure()\n\n# Filled contours using filled=True.\ncs = ContourSet(plt.gca(), [0, 1, 2], [filled01, filled12], filled=True, cmap=cm.bone)\ncbar = plt.colorbar(cs)\n\n# Contour lines (non-filled).\nlines = ContourSet(plt.gca(), [0, 1, 2], [lines0, lines1, lines2], cmap=cm.cool,\n                   linewidths=3)\ncbar.add_lines(lines)\n\nplt.axis([-0.5, 3.5, -0.5, 4.5])\nplt.title('User-specified contours')\n\n\n# Multiple filled contour lines can be specified in a single list of polygon\n# vertices along with a list of vertex kinds (code types) as described in the\n# Path class.  This is particularly useful for polygons with holes.\n# Here a code type of 1 is a MOVETO, and 2 is a LINETO.\n\nplt.figure()\nfilled01 = [[[0, 0], [3, 0], [3, 3], [0, 3], [1, 1], [1, 2], [2, 2], [2, 1]]]\nkinds01 = [[1, 2, 2, 2, 1, 2, 2, 2]]\ncs = ContourSet(plt.gca(), [0, 1], [filled01], [kinds01], filled=True)\ncbar = plt.colorbar(cs)\n\nplt.axis([-0.5, 3.5, -0.5, 3.5])\nplt.title('User specified filled contours with holes')\n\nplt.show()"
      ],
      "metadata": {
        "collapsed": false
      },
      "outputs": [],
      "cell_type": "code",
      "execution_count": null
    }
  ],
  "nbformat": 4,
  "nbformat_minor": 0
}