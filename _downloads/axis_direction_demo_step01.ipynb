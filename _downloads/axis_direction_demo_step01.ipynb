{
  "cells": [
    {
      "cell_type": "code",
      "execution_count": null,
      "metadata": {
        "collapsed": false
      },
      "source": [
        "%matplotlib inline"
      ],
      "outputs": []
    },
    {
      "cell_type": "markdown",
      "metadata": {},
      "source": [
        "\n# Axis Direction Demo Step01\n\n\n\n"
      ]
    },
    {
      "cell_type": "code",
      "execution_count": null,
      "metadata": {
        "collapsed": false
      },
      "source": [
        "import matplotlib.pyplot as plt\nimport mpl_toolkits.axisartist as axisartist\n\n\ndef setup_axes(fig, rect):\n    ax = axisartist.Subplot(fig, rect)\n    fig.add_axes(ax)\n\n    ax.set_ylim(-0.1, 1.5)\n    ax.set_yticks([0, 1])\n\n    ax.axis[:].set_visible(False)\n\n    ax.axis[\"x\"] = ax.new_floating_axis(1, 0.5)\n    ax.axis[\"x\"].set_axisline_style(\"->\", size=1.5)\n\n    return ax\n\n\nfig = plt.figure(figsize=(3, 2.5))\nfig.subplots_adjust(top=0.8)\nax1 = setup_axes(fig, \"111\")\n\nax1.axis[\"x\"].set_axis_direction(\"left\")\n\nplt.show()"
      ],
      "outputs": []
    }
  ],
  "nbformat_minor": 0,
  "metadata": {
    "kernelspec": {
      "display_name": "Python 3",
      "language": "python",
      "name": "python3"
    },
    "language_info": {
      "version": "3.5.2",
      "nbconvert_exporter": "python",
      "mimetype": "text/x-python",
      "codemirror_mode": {
        "version": 3,
        "name": "ipython"
      },
      "file_extension": ".py",
      "pygments_lexer": "ipython3",
      "name": "python"
    }
  },
  "nbformat": 4
}