{
  "metadata": {
    "language_info": {
      "codemirror_mode": {
        "version": 3,
        "name": "ipython"
      },
      "name": "python",
      "pygments_lexer": "ipython3",
      "file_extension": ".py",
      "mimetype": "text/x-python",
      "nbconvert_exporter": "python",
      "version": "3.5.2"
    },
    "kernelspec": {
      "display_name": "Python 3",
      "name": "python3",
      "language": "python"
    }
  },
  "cells": [
    {
      "source": [
        "%matplotlib inline"
      ],
      "metadata": {
        "collapsed": false
      },
      "outputs": [],
      "cell_type": "code",
      "execution_count": null
    },
    {
      "source": [
        "\n# Image Slices Viewer\n\n\n\n"
      ],
      "metadata": {},
      "cell_type": "markdown"
    },
    {
      "source": [
        "from __future__ import print_function\n\nimport numpy as np\nimport matplotlib.pyplot as plt\n\n\nclass IndexTracker(object):\n    def __init__(self, ax, X):\n        self.ax = ax\n        ax.set_title('use scroll wheel to navigate images')\n\n        self.X = X\n        rows, cols, self.slices = X.shape\n        self.ind = self.slices//2\n\n        self.im = ax.imshow(self.X[:, :, self.ind])\n        self.update()\n\n    def onscroll(self, event):\n        print(\"%s %s\" % (event.button, event.step))\n        if event.button == 'up':\n            self.ind = (self.ind + 1) % self.slices\n        else:\n            self.ind = (self.ind - 1) % self.slices\n        self.update()\n\n    def update(self):\n        self.im.set_data(self.X[:, :, self.ind])\n        ax.set_ylabel('slice %s' % self.ind)\n        self.im.axes.figure.canvas.draw()\n\n\nfig, ax = plt.subplots(1, 1)\n\nX = np.random.rand(20, 20, 40)\n\ntracker = IndexTracker(ax, X)\n\n\nfig.canvas.mpl_connect('scroll_event', tracker.onscroll)\nplt.show()"
      ],
      "metadata": {
        "collapsed": false
      },
      "outputs": [],
      "cell_type": "code",
      "execution_count": null
    }
  ],
  "nbformat": 4,
  "nbformat_minor": 0
}