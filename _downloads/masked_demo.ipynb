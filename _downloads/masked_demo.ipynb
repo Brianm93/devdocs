{
  "cells": [
    {
      "cell_type": "code",
      "execution_count": null,
      "metadata": {
        "collapsed": false
      },
      "source": [
        "%matplotlib inline"
      ],
      "outputs": []
    },
    {
      "cell_type": "markdown",
      "metadata": {},
      "source": [
        "\n# Masked Demo\n\n\nPlot lines with points masked out.\n\nThis would typically be used with gappy data, to\nbreak the line at the data gaps.\n\n"
      ]
    },
    {
      "cell_type": "code",
      "execution_count": null,
      "metadata": {
        "collapsed": false
      },
      "source": [
        "import matplotlib.pyplot as plt\nimport numpy as np\n\nx = np.arange(0, 2*np.pi, 0.02)\ny = np.sin(x)\ny1 = np.sin(2*x)\ny2 = np.sin(3*x)\nym1 = np.ma.masked_where(y1 > 0.5, y1)\nym2 = np.ma.masked_where(y2 < -0.5, y2)\n\nlines = plt.plot(x, y, x, ym1, x, ym2, 'o')\nplt.setp(lines[0], linewidth=4)\nplt.setp(lines[1], linewidth=2)\nplt.setp(lines[2], markersize=10)\n\nplt.legend(('No mask', 'Masked if > 0.5', 'Masked if < -0.5'),\n           loc='upper right')\nplt.title('Masked line demo')\nplt.show()"
      ],
      "outputs": []
    }
  ],
  "nbformat_minor": 0,
  "metadata": {
    "kernelspec": {
      "display_name": "Python 3",
      "language": "python",
      "name": "python3"
    },
    "language_info": {
      "version": "3.5.2",
      "nbconvert_exporter": "python",
      "mimetype": "text/x-python",
      "codemirror_mode": {
        "version": 3,
        "name": "ipython"
      },
      "file_extension": ".py",
      "pygments_lexer": "ipython3",
      "name": "python"
    }
  },
  "nbformat": 4
}