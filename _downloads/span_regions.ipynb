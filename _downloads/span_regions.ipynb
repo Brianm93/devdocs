{
  "metadata": {
    "language_info": {
      "codemirror_mode": {
        "version": 3,
        "name": "ipython"
      },
      "name": "python",
      "pygments_lexer": "ipython3",
      "file_extension": ".py",
      "mimetype": "text/x-python",
      "nbconvert_exporter": "python",
      "version": "3.5.2"
    },
    "kernelspec": {
      "display_name": "Python 3",
      "name": "python3",
      "language": "python"
    }
  },
  "cells": [
    {
      "source": [
        "%matplotlib inline"
      ],
      "metadata": {
        "collapsed": false
      },
      "outputs": [],
      "cell_type": "code",
      "execution_count": null
    },
    {
      "source": [
        "\n# Using span_where\n\n\nIllustrate some helper functions for shading regions where a logical\nmask is True\n\nSee :meth:`matplotlib.collections.BrokenBarHCollection.span_where`\n\n"
      ],
      "metadata": {},
      "cell_type": "markdown"
    },
    {
      "source": [
        "import numpy as np\nimport matplotlib.pyplot as plt\nimport matplotlib.collections as collections\n\n\nt = np.arange(0.0, 2, 0.01)\ns1 = np.sin(2*np.pi*t)\ns2 = 1.2*np.sin(4*np.pi*t)\n\n\nfig, ax = plt.subplots()\nax.set_title('using span_where')\nax.plot(t, s1, color='black')\nax.axhline(0, color='black', lw=2)\n\ncollection = collections.BrokenBarHCollection.span_where(\n    t, ymin=0, ymax=1, where=s1 > 0, facecolor='green', alpha=0.5)\nax.add_collection(collection)\n\ncollection = collections.BrokenBarHCollection.span_where(\n    t, ymin=-1, ymax=0, where=s1 < 0, facecolor='red', alpha=0.5)\nax.add_collection(collection)\n\n\nplt.show()"
      ],
      "metadata": {
        "collapsed": false
      },
      "outputs": [],
      "cell_type": "code",
      "execution_count": null
    }
  ],
  "nbformat": 4,
  "nbformat_minor": 0
}