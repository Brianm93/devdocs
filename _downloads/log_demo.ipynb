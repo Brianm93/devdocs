{
  "cells": [
    {
      "cell_type": "code",
      "execution_count": null,
      "metadata": {
        "collapsed": false
      },
      "source": [
        "%matplotlib inline"
      ],
      "outputs": []
    },
    {
      "cell_type": "markdown",
      "metadata": {},
      "source": [
        "\n# Log Demo\n\n\n\n"
      ]
    },
    {
      "cell_type": "code",
      "execution_count": null,
      "metadata": {
        "collapsed": false
      },
      "source": [
        "import numpy as np\nimport matplotlib.pyplot as plt\n\nplt.subplots_adjust(hspace=0.4)\nt = np.arange(0.01, 20.0, 0.01)\n\n# log y axis\nplt.subplot(221)\nplt.semilogy(t, np.exp(-t/5.0))\nplt.title('semilogy')\nplt.grid(True)\n\n# log x axis\nplt.subplot(222)\nplt.semilogx(t, np.sin(2*np.pi*t))\nplt.title('semilogx')\nplt.grid(True)\n\n# log x and y axis\nplt.subplot(223)\nplt.loglog(t, 20*np.exp(-t/10.0), basex=2)\nplt.grid(True)\nplt.title('loglog base 2 on x')\n\n# with errorbars: clip non-positive values\nax = plt.subplot(224)\nax.set_xscale(\"log\", nonposx='clip')\nax.set_yscale(\"log\", nonposy='clip')\n\nx = 10.0**np.linspace(0.0, 2.0, 20)\ny = x**2.0\nplt.errorbar(x, y, xerr=0.1*x, yerr=5.0 + 0.75*y)\nax.set_ylim(ymin=0.1)\nax.set_title('Errorbars go negative')\n\n\nplt.show()"
      ],
      "outputs": []
    }
  ],
  "nbformat_minor": 0,
  "metadata": {
    "kernelspec": {
      "display_name": "Python 3",
      "language": "python",
      "name": "python3"
    },
    "language_info": {
      "version": "3.5.2",
      "nbconvert_exporter": "python",
      "mimetype": "text/x-python",
      "codemirror_mode": {
        "version": 3,
        "name": "ipython"
      },
      "file_extension": ".py",
      "pygments_lexer": "ipython3",
      "name": "python"
    }
  },
  "nbformat": 4
}