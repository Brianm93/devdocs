{
  "metadata": {
    "language_info": {
      "codemirror_mode": {
        "version": 3,
        "name": "ipython"
      },
      "name": "python",
      "pygments_lexer": "ipython3",
      "file_extension": ".py",
      "mimetype": "text/x-python",
      "nbconvert_exporter": "python",
      "version": "3.5.2"
    },
    "kernelspec": {
      "display_name": "Python 3",
      "name": "python3",
      "language": "python"
    }
  },
  "cells": [
    {
      "source": [
        "%matplotlib inline"
      ],
      "metadata": {
        "collapsed": false
      },
      "outputs": [],
      "cell_type": "code",
      "execution_count": null
    },
    {
      "source": [
        "\n# Demo Colorbar with Axes Divider\n\n\n\n"
      ],
      "metadata": {},
      "cell_type": "markdown"
    },
    {
      "source": [
        "import matplotlib.pyplot as plt\nfrom mpl_toolkits.axes_grid1.axes_divider import make_axes_locatable\n\nfrom mpl_toolkits.axes_grid1.colorbar import colorbar\n# from matplotlib.pyplot import colorbar\n\nfig = plt.figure(1, figsize=(6, 3))\nfig.subplots_adjust(wspace=0.5)\n\nax1 = fig.add_subplot(121)\nim1 = ax1.imshow([[1, 2], [3, 4]])\n\nax1_divider = make_axes_locatable(ax1)\ncax1 = ax1_divider.append_axes(\"right\", size=\"7%\", pad=\"2%\")\ncb1 = colorbar(im1, cax=cax1)\n\nax2 = fig.add_subplot(122)\nim2 = ax2.imshow([[1, 2], [3, 4]])\n\nax2_divider = make_axes_locatable(ax2)\ncax2 = ax2_divider.append_axes(\"top\", size=\"7%\", pad=\"2%\")\ncb2 = colorbar(im2, cax=cax2, orientation=\"horizontal\")\ncax2.xaxis.set_ticks_position(\"top\")\nplt.show()"
      ],
      "metadata": {
        "collapsed": false
      },
      "outputs": [],
      "cell_type": "code",
      "execution_count": null
    }
  ],
  "nbformat": 4,
  "nbformat_minor": 0
}