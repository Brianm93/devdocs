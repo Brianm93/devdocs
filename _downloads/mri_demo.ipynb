{
  "cells": [
    {
      "cell_type": "code",
      "execution_count": null,
      "metadata": {
        "collapsed": false
      },
      "source": [
        "%matplotlib inline"
      ],
      "outputs": []
    },
    {
      "cell_type": "markdown",
      "metadata": {},
      "source": [
        "\n# MRI\n\n\n\nThis example illustrates how to read an image (of an MRI) into a NumPy\narray, and display it in greyscale using `imshow`.\n\n\n"
      ]
    },
    {
      "cell_type": "code",
      "execution_count": null,
      "metadata": {
        "collapsed": false
      },
      "source": [
        "import matplotlib.pyplot as plt\nimport matplotlib.cbook as cbook\nimport matplotlib.cm as cm\nimport numpy as np\n\n\n# Data are 256x256 16 bit integers\nwith cbook.get_sample_data('s1045.ima.gz') as dfile:\n    im = np.fromstring(dfile.read(), np.uint16).reshape((256, 256))\n\nfig, ax = plt.subplots(num=\"MRI_demo\")\nax.imshow(im, cmap=cm.gray)\nax.axis('off')\n\nplt.show()"
      ],
      "outputs": []
    }
  ],
  "nbformat_minor": 0,
  "metadata": {
    "kernelspec": {
      "display_name": "Python 3",
      "language": "python",
      "name": "python3"
    },
    "language_info": {
      "version": "3.5.2",
      "nbconvert_exporter": "python",
      "mimetype": "text/x-python",
      "codemirror_mode": {
        "version": 3,
        "name": "ipython"
      },
      "file_extension": ".py",
      "pygments_lexer": "ipython3",
      "name": "python"
    }
  },
  "nbformat": 4
}